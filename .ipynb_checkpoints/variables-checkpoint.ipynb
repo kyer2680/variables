{
 "cells": [
  {
   "cell_type": "code",
   "execution_count": null,
   "id": "52499654-eabf-464f-b095-2415bce39810",
   "metadata": {},
   "outputs": [],
   "source": []
  }
 ],
 "metadata": {
  "kernelspec": {
   "display_name": "JavaScript (Node.js)",
   "language": "javascript",
   "name": "javascript"
  },
  "language_info": {
   "file_extension": ".js",
   "mimetype": "application/javascript",
   "name": "javascript",
   "version": "20.8.1"
  }
 },
 "nbformat": 4,
 "nbformat_minor": 5
}
