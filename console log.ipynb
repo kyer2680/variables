{
 "cells": [
  {
   "cell_type": "markdown",
   "id": "6a0bc649-770f-4c21-83a7-c456fae0506f",
   "metadata": {},
   "source": [
    "# console.log();"
   ]
  },
  {
   "cell_type": "markdown",
   "id": "9828d6b4-b72c-4543-b2c8-424a540b5211",
   "metadata": {},
   "source": [
    "Prints a new line in the console."
   ]
  },
  {
   "cell_type": "markdown",
   "id": "c09b4460-f8cf-4b81-a404-6c837d3bd21e",
   "metadata": {},
   "source": [
    "Syntax: console.log(\"text or object\");\n",
    "\n",
    "Example: "
   ]
  },
  {
   "cell_type": "code",
   "execution_count": 6,
   "id": "be3cba4d-3163-43a7-b573-9688d80ceaa3",
   "metadata": {},
   "outputs": [
    {
     "name": "stdout",
     "output_type": "stream",
     "text": [
      "Hello, World!\n"
     ]
    }
   ],
   "source": [
    "console.log(\"Hello, World!\");"
   ]
  },
  {
   "cell_type": "code",
   "execution_count": null,
   "id": "aefd9102-d0eb-4c95-9c38-20ab8b1cc205",
   "metadata": {},
   "outputs": [],
   "source": []
  }
 ],
 "metadata": {
  "kernelspec": {
   "display_name": "JavaScript (Node.js)",
   "language": "javascript",
   "name": "javascript"
  },
  "language_info": {
   "file_extension": ".js",
   "mimetype": "application/javascript",
   "name": "javascript",
   "version": "20.8.1"
  }
 },
 "nbformat": 4,
 "nbformat_minor": 5
}
